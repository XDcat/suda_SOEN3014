{
 "cells": [
  {
   "cell_type": "code",
   "execution_count": 12,
   "metadata": {
    "collapsed": true,
    "pycharm": {
     "is_executing": false,
     "name": "#%%\n"
    }
   },
   "outputs": [
    {
     "name": "stdout",
     "text": [
      "58\n29 29\n{'自动检测': 'auto', '中文': 'zh', '英语': 'en', '粤语': 'yue', '文言文': 'wyw', '曰语': 'jp', '韩语': 'kor', '法语': 'fra', '西班牙语': 'spa', '泰语': 'th', '阿拉伯语': 'ara', '俄语': 'ru', '葡萄牙语': 'pt', '德语': 'de', '意大利语': 'it', '希腊语': 'el', '荷兰语': 'nl', '波兰语': 'pl', '保加利亚语': 'bul', '爱沙尼亚语': 'est', '丹麦语': 'dan', '芬兰语': 'fin', '捷克语': 'cs', '罗马尼亚语': 'rom', '斯洛文尼亚语': 'slo', '瑞典语': 'swe', '匈牙利语': 'hu', '繁体中文': 'cht', '越南语': 'vie'}\n"
     ],
     "output_type": "stream"
    }
   ],
   "source": [
    "a = \"\"\"auto\n",
    "自动检测\n",
    "zh\n",
    "中文\n",
    "en\n",
    "英语\n",
    "yue\n",
    "粤语\n",
    "wyw\n",
    "文言文\n",
    "jp\n",
    "曰语\n",
    "kor\n",
    "韩语\n",
    "fra\n",
    "法语\n",
    "spa\n",
    "西班牙语\n",
    "th\n",
    "泰语\n",
    "ara\n",
    "阿拉伯语\n",
    "ru\n",
    "俄语\n",
    "pt\n",
    "葡萄牙语\n",
    "de\n",
    "德语\n",
    "it\n",
    "意大利语\n",
    "el\n",
    "希腊语\n",
    "nl\n",
    "荷兰语\n",
    "pl\n",
    "波兰语\n",
    "bul\n",
    "保加利亚语\n",
    "est\n",
    "爱沙尼亚语\n",
    "dan\n",
    "丹麦语\n",
    "fin\n",
    "芬兰语\n",
    "cs\n",
    "捷克语\n",
    "rom\n",
    "罗马尼亚语\n",
    "slo\n",
    "斯洛文尼亚语\n",
    "swe\n",
    "瑞典语\n",
    "hu\n",
    "匈牙利语\n",
    "cht\n",
    "繁体中文\n",
    "vie\n",
    "越南语\"\"\"\n",
    "\n",
    "a = a.split()\n",
    "print(len(a))\n",
    "b = []\n",
    "c = []\n",
    "for i in range(len(a)):\n",
    "    if i % 2 == 0:\n",
    "        b.append(a[i])\n",
    "    else:\n",
    "        c.append(a[i])\n",
    "\n",
    "print(len(b), len(c))\n",
    "res = dict(zip(c, b))\n",
    "print(res)"
   ]
  },
  {
   "cell_type": "code",
   "execution_count": null,
   "outputs": [],
   "source": [
    "\n"
   ],
   "metadata": {
    "collapsed": false,
    "pycharm": {
     "name": "#%%\n"
    }
   }
  }
 ],
 "metadata": {
  "language_info": {
   "codemirror_mode": {
    "name": "ipython",
    "version": 2
   },
   "file_extension": ".py",
   "mimetype": "text/x-python",
   "name": "python",
   "nbconvert_exporter": "python",
   "pygments_lexer": "ipython2",
   "version": "2.7.6"
  },
  "kernelspec": {
   "name": "python3",
   "language": "python",
   "display_name": "Python 3"
  },
  "pycharm": {
   "stem_cell": {
    "cell_type": "raw",
    "source": [],
    "metadata": {
     "collapsed": false
    }
   }
  }
 },
 "nbformat": 4,
 "nbformat_minor": 0
}